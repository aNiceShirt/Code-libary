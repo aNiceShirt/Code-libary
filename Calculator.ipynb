{
 "cells": [
  {
   "cell_type": "code",
   "execution_count": 32,
   "metadata": {},
   "outputs": [
    {
     "name": "stdout",
     "output_type": "stream",
     "text": [
      "           \n",
      " _._     _,-'\"\"`-._\n",
      "(,-.`._,'(       |\\`-/|\n",
      "    `-.-' \\ )-`( , o o)\n",
      "          `-    \\`_`\"'-        \n",
      "\n",
      "+\n",
      "-\n",
      "*\n",
      "/\n",
      "100.0 + 200.0 = 300.0\n",
      "           \n",
      " _._     _,-'\"\"`-._\n",
      "(,-.`._,'(       |\\`-/|\n",
      "    `-.-' \\ )-`( , o o)\n",
      "          `-    \\`_`\"'-        \n",
      "\n",
      "+\n",
      "-\n",
      "*\n",
      "/\n",
      "30.0 + 10.0 = 40.0\n"
     ]
    },
    {
     "ename": "ValueError",
     "evalue": "could not convert string to float: ''",
     "output_type": "error",
     "traceback": [
      "\u001b[1;31m---------------------------------------------------------------------------\u001b[0m",
      "\u001b[1;31mValueError\u001b[0m                                Traceback (most recent call last)",
      "\u001b[1;32mc:\\Users\\mbh\\Downloads\\100Days of Code Python\\Code libary\\Calculator.ipynb Cell 1\u001b[0m line \u001b[0;36m4\n\u001b[0;32m     <a href='vscode-notebook-cell:/c%3A/Users/mbh/Downloads/100Days%20of%20Code%20Python/Code%20libary/Calculator.ipynb#W0sZmlsZQ%3D%3D?line=41'>42</a>\u001b[0m             should_continue \u001b[39m=\u001b[39m \u001b[39mFalse\u001b[39;00m\n\u001b[0;32m     <a href='vscode-notebook-cell:/c%3A/Users/mbh/Downloads/100Days%20of%20Code%20Python/Code%20libary/Calculator.ipynb#W0sZmlsZQ%3D%3D?line=42'>43</a>\u001b[0m             calculator()\n\u001b[1;32m---> <a href='vscode-notebook-cell:/c%3A/Users/mbh/Downloads/100Days%20of%20Code%20Python/Code%20libary/Calculator.ipynb#W0sZmlsZQ%3D%3D?line=44'>45</a>\u001b[0m calculator()\n",
      "\u001b[1;32mc:\\Users\\mbh\\Downloads\\100Days of Code Python\\Code libary\\Calculator.ipynb Cell 1\u001b[0m line \u001b[0;36m4\n\u001b[0;32m     <a href='vscode-notebook-cell:/c%3A/Users/mbh/Downloads/100Days%20of%20Code%20Python/Code%20libary/Calculator.ipynb#W0sZmlsZQ%3D%3D?line=39'>40</a>\u001b[0m \u001b[39m# Reccursive function call: Calls the function calculator() again so starts from top of definition again \u001b[39;00m\n\u001b[0;32m     <a href='vscode-notebook-cell:/c%3A/Users/mbh/Downloads/100Days%20of%20Code%20Python/Code%20libary/Calculator.ipynb#W0sZmlsZQ%3D%3D?line=40'>41</a>\u001b[0m \u001b[39melse\u001b[39;00m:\n\u001b[0;32m     <a href='vscode-notebook-cell:/c%3A/Users/mbh/Downloads/100Days%20of%20Code%20Python/Code%20libary/Calculator.ipynb#W0sZmlsZQ%3D%3D?line=41'>42</a>\u001b[0m     should_continue \u001b[39m=\u001b[39m \u001b[39mFalse\u001b[39;00m\n\u001b[1;32m---> <a href='vscode-notebook-cell:/c%3A/Users/mbh/Downloads/100Days%20of%20Code%20Python/Code%20libary/Calculator.ipynb#W0sZmlsZQ%3D%3D?line=42'>43</a>\u001b[0m     calculator()\n",
      "\u001b[1;32mc:\\Users\\mbh\\Downloads\\100Days of Code Python\\Code libary\\Calculator.ipynb Cell 1\u001b[0m line \u001b[0;36m4\n\u001b[0;32m     <a href='vscode-notebook-cell:/c%3A/Users/mbh/Downloads/100Days%20of%20Code%20Python/Code%20libary/Calculator.ipynb#W0sZmlsZQ%3D%3D?line=39'>40</a>\u001b[0m \u001b[39m# Reccursive function call: Calls the function calculator() again so starts from top of definition again \u001b[39;00m\n\u001b[0;32m     <a href='vscode-notebook-cell:/c%3A/Users/mbh/Downloads/100Days%20of%20Code%20Python/Code%20libary/Calculator.ipynb#W0sZmlsZQ%3D%3D?line=40'>41</a>\u001b[0m \u001b[39melse\u001b[39;00m:\n\u001b[0;32m     <a href='vscode-notebook-cell:/c%3A/Users/mbh/Downloads/100Days%20of%20Code%20Python/Code%20libary/Calculator.ipynb#W0sZmlsZQ%3D%3D?line=41'>42</a>\u001b[0m     should_continue \u001b[39m=\u001b[39m \u001b[39mFalse\u001b[39;00m\n\u001b[1;32m---> <a href='vscode-notebook-cell:/c%3A/Users/mbh/Downloads/100Days%20of%20Code%20Python/Code%20libary/Calculator.ipynb#W0sZmlsZQ%3D%3D?line=42'>43</a>\u001b[0m     calculator()\n",
      "\u001b[1;32mc:\\Users\\mbh\\Downloads\\100Days of Code Python\\Code libary\\Calculator.ipynb Cell 1\u001b[0m line \u001b[0;36m2\n\u001b[0;32m     <a href='vscode-notebook-cell:/c%3A/Users/mbh/Downloads/100Days%20of%20Code%20Python/Code%20libary/Calculator.ipynb#W0sZmlsZQ%3D%3D?line=22'>23</a>\u001b[0m \u001b[39mdef\u001b[39;00m \u001b[39mcalculator\u001b[39m():\n\u001b[1;32m---> <a href='vscode-notebook-cell:/c%3A/Users/mbh/Downloads/100Days%20of%20Code%20Python/Code%20libary/Calculator.ipynb#W0sZmlsZQ%3D%3D?line=23'>24</a>\u001b[0m     num1 \u001b[39m=\u001b[39m \u001b[39mfloat\u001b[39;49m(\u001b[39minput\u001b[39;49m(\u001b[39m\"\u001b[39;49m\u001b[39mWhat is the first number\u001b[39;49m\u001b[39m\"\u001b[39;49m))\n\u001b[0;32m     <a href='vscode-notebook-cell:/c%3A/Users/mbh/Downloads/100Days%20of%20Code%20Python/Code%20libary/Calculator.ipynb#W0sZmlsZQ%3D%3D?line=24'>25</a>\u001b[0m     \u001b[39mprint\u001b[39m(arttt\u001b[39m.\u001b[39mlogo)\n\u001b[0;32m     <a href='vscode-notebook-cell:/c%3A/Users/mbh/Downloads/100Days%20of%20Code%20Python/Code%20libary/Calculator.ipynb#W0sZmlsZQ%3D%3D?line=26'>27</a>\u001b[0m     \u001b[39mfor\u001b[39;00m operation \u001b[39min\u001b[39;00m operations:\n",
      "\u001b[1;31mValueError\u001b[0m: could not convert string to float: ''"
     ]
    }
   ],
   "source": [
    "import arttt\n",
    "def add(n1,n2):\n",
    "    return n1 + n2\n",
    "\n",
    "def subtract(n1,n2):\n",
    "    return n1 - n2\n",
    "\n",
    "def multiply(n1,n2):\n",
    "    return n1 * n2\n",
    "\n",
    "def divide(n1,n2):\n",
    "    return n1 / n2\n",
    "\n",
    "operations = {\n",
    "    \"+\" : add,\n",
    "    \"-\" : subtract,\n",
    "    \"*\" : multiply,\n",
    "    \"/\" : divide,\n",
    "}\n",
    "\n",
    "\n",
    "\n",
    "def calculator():\n",
    "    num1 = float(input(\"What is the first number\"))\n",
    "    print(arttt.logo)\n",
    "    \n",
    "    for operation in operations:\n",
    "        print(operation)\n",
    "\n",
    "    should_continue = True\n",
    "\n",
    "    while should_continue == True:\n",
    "        operation_symbol = input(\"Pick an operation from the line above: \")\n",
    "        num2 = float(input(\"What is the next number?\"))\n",
    "        calculation_function = operations[operation_symbol]\n",
    "        num3 = calculation_function(num1, num2)\n",
    "        print(f\"{num1} {operation_symbol} {num2} = {num3}\")\n",
    "        if input(\"Type 'y'to continue calculating with \" + str(num3) + \" or type 'n' to start a new calculation: \") == \"y\":\n",
    "            num1 = num3\n",
    "        # Reccursive function call: Calls the function calculator() again so starts from top of definition again \n",
    "        else:\n",
    "            should_continue = False\n",
    "            calculator()\n",
    "                 \n",
    "calculator()\n",
    "\n",
    "\n",
    "\n",
    "\n",
    "\n"
   ]
  }
 ],
 "metadata": {
  "kernelspec": {
   "display_name": "Python 3",
   "language": "python",
   "name": "python3"
  },
  "language_info": {
   "codemirror_mode": {
    "name": "ipython",
    "version": 3
   },
   "file_extension": ".py",
   "mimetype": "text/x-python",
   "name": "python",
   "nbconvert_exporter": "python",
   "pygments_lexer": "ipython3",
   "version": "3.10.2"
  }
 },
 "nbformat": 4,
 "nbformat_minor": 2
}
