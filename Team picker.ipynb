{
 "cells": [
  {
   "cell_type": "code",
   "execution_count": 4,
   "metadata": {},
   "outputs": [
    {
     "name": "stdout",
     "output_type": "stream",
     "text": [
      "This is a band generator\n",
      "Your band name could be: \n",
      "city pet\n"
     ]
    }
   ],
   "source": [
    "#1. Create a greeting for your program.\n",
    "print(\"This is a band generator\")\n",
    "#2. Ask the user for the city that they grew up in.\n",
    "city = input(\"What is the name of the city you grew up in?\\n\")\n",
    "#3. Ask the user for the name of a pet.\n",
    "pet_name = input(\"What is your pets name?\\n\")\n",
    "#4. Combine the name of their city and pet and show them their band name.\n",
    "print(\"Your band name could be: \\n\" + city + \" \" + pet_name)\n",
    "#5. Make sure the input cursor shows on a new line:\n",
    "\n",
    "# Solution: https://replit.com/@appbrewery/band-name-generator-end"
   ]
  },
  {
   "cell_type": "code",
   "execution_count": 1,
   "metadata": {},
   "outputs": [
    {
     "name": "stdout",
     "output_type": "stream",
     "text": [
      "o\n"
     ]
    }
   ],
   "source": [
    "print(\"Hello\"[-1])"
   ]
  },
  {
   "cell_type": "code",
   "execution_count": 33,
   "metadata": {},
   "outputs": [
    {
     "name": "stdout",
     "output_type": "stream",
     "text": [
      "[['Anne', 'Marcus', 'Troels', 'Magnus', 'Anders'], ['søren', 'Leif B', 'john', 'Janus', 'Esben'], ['Mathias', 'Majken', 'Rasmus', 'Den rigtige Mathias', 'Ulrik']]\n"
     ]
    }
   ],
   "source": [
    "import random\n",
    "\n",
    "people = [\"Marcus\", \"Majken\", \"Esben\", \"Janus\", \"Troels\", \"Den rigtige Mathias\", \"Mathias\", \"Leif B\", \"Rasmus\", \"Anders\", \"Anne\", \"Magnus\", \"Ulrik\", \"søren\", \"john\"]\n",
    "numPeople = len(people)\n",
    "teams = 3\n",
    "team_1 =[]\n",
    "team_2 =[]\n",
    "team_3 =[]\n",
    "teams = [team_1, team_2, team_3]\n",
    "\n",
    "try:\n",
    "    while numPeople > 0:\n",
    "        person1 = random.choice(people)\n",
    "        team_1.append(person1)\n",
    "        people.remove(person1)\n",
    "        numPeople -= 1\n",
    "        person2 = random.choice(people)\n",
    "        team_2.append(person2)\n",
    "        people.remove(person2)\n",
    "        numPeople -= 1\n",
    "        person3 = random.choice(people)\n",
    "        team_3.append(person3)\n",
    "        people.remove(person3)\n",
    "        numPeople -= 1\n",
    "except:\n",
    "    pass\n",
    "\n",
    "print(teams)\n",
    "    \n"
   ]
  }
 ],
 "metadata": {
  "kernelspec": {
   "display_name": "Python 3",
   "language": "python",
   "name": "python3"
  },
  "language_info": {
   "codemirror_mode": {
    "name": "ipython",
    "version": 3
   },
   "file_extension": ".py",
   "mimetype": "text/x-python",
   "name": "python",
   "nbconvert_exporter": "python",
   "pygments_lexer": "ipython3",
   "version": "3.11.6"
  },
  "orig_nbformat": 4
 },
 "nbformat": 4,
 "nbformat_minor": 2
}
