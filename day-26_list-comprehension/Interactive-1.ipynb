{
 "cells": [
  {
   "cell_type": "code",
   "execution_count": 2,
   "metadata": {},
   "outputs": [],
   "source": [
    "numbers = [1,2,3]"
   ]
  },
  {
   "cell_type": "code",
   "execution_count": 3,
   "metadata": {},
   "outputs": [],
   "source": [
    "new_numbers = [n+1 for n in numbers]"
   ]
  },
  {
   "cell_type": "code",
   "execution_count": 4,
   "metadata": {},
   "outputs": [],
   "source": [
    "name = \"Mathias\""
   ]
  },
  {
   "cell_type": "code",
   "execution_count": 5,
   "metadata": {},
   "outputs": [],
   "source": [
    "new_list = [letter for letter in name]"
   ]
  },
  {
   "cell_type": "code",
   "execution_count": 6,
   "metadata": {},
   "outputs": [],
   "source": [
    "new_range = [n*2 for n in range(1,5)]"
   ]
  },
  {
   "cell_type": "code",
   "execution_count": 3,
   "metadata": {},
   "outputs": [
    {
     "name": "stdout",
     "output_type": "stream",
     "text": [
      "['CAROLINE', 'FREDDIE', 'ELEANOR']\n"
     ]
    }
   ],
   "source": [
    "# Conditional list comprehension\n",
    "# new_list = [new_item for item in list if test]\n",
    "names = [\"Alex\", \"Beth\", \"Caroline\", \"Dave\", \"Freddie\", \"Eleanor\"]\n",
    "new_list = [name.upper() for name in names if len(name) > 4]\n",
    "print(new_list)"
   ]
  },
  {
   "cell_type": "code",
   "execution_count": 13,
   "metadata": {},
   "outputs": [
    {
     "name": "stdout",
     "output_type": "stream",
     "text": [
      "{'Alex': 70, 'Beth': 68, 'Caroline': 6, 'Dave': 64, 'Freddie': 56, 'Eleanor': 82}\n",
      "{'Alex': 70, 'Beth': 68, 'Dave': 64, 'Eleanor': 82}\n"
     ]
    }
   ],
   "source": [
    "# Dictionary comprehension\n",
    "\n",
    "# new_dict = {new_key:new_value for item in list}\n",
    "\n",
    "# new_dict = {new_key:new_value for (key, value) in dictionary.items() if test}\n",
    "\n",
    "names = [\"Alex\", \"Beth\", \"Caroline\", \"Dave\", \"Freddie\", \"Eleanor\"]\n",
    "import random\n",
    "student_scores = {student:random.randint(1,100) for student in names}\n",
    "print(student_scores)\n",
    "new_dict = {student:score for (student, score) in student_scores.items() if score >= 60}\n",
    "\n",
    "print(new_dict)"
   ]
  }
 ],
 "metadata": {
  "kernelspec": {
   "display_name": "Python 3",
   "language": "python",
   "name": "python3"
  },
  "language_info": {
   "codemirror_mode": {
    "name": "ipython",
    "version": 3
   },
   "file_extension": ".py",
   "mimetype": "text/x-python",
   "name": "python",
   "nbconvert_exporter": "python",
   "pygments_lexer": "ipython3",
   "version": "3.11.8"
  }
 },
 "nbformat": 4,
 "nbformat_minor": 2
}
