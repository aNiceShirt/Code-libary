{
 "cells": [
  {
   "cell_type": "code",
   "execution_count": 51,
   "metadata": {},
   "outputs": [
    {
     "name": "stdout",
     "output_type": "stream",
     "text": [
      "['x', 'y', 'z', 'a', 'b']\n",
      "[23, 24, 25, 0, 1]\n",
      "[24, 25, 26, 1, 2]\n",
      "['y', 'z', 'a', 'b', 'c']\n"
     ]
    }
   ],
   "source": [
    "alphabet = ['a', 'b', 'c', 'd', 'e', 'f', 'g', 'h', 'i', 'j', 'k', 'l', 'm', 'n', 'o', 'p', 'q', 'r', 's', 't', 'u', 'v', 'w', 'x', 'y', 'z']\n",
    "\n",
    "# direction = input(\"Type 'encode' to encrypt, type 'decode' to decrypt:\\n\")\n",
    "# text = input(\"Type your message:\\n\").lower()\n",
    "# shift = int(input(\"Type the shift number:\\n\"))\n",
    "\n",
    "direction = \"encode\"\n",
    "text = \"xyzab\"\n",
    "shift = 1\n",
    "\n",
    "#TODO-1: Create a function called 'encrypt' that takes the 'text' and 'shift' as inputs.\n",
    "def encrypt(text,shift):\n",
    "    list_text = []\n",
    "    list_text_index = []\n",
    "    list_text_encoded_index = []\n",
    "    list_encoded = []\n",
    "    for letter in range(0,len(text)):\n",
    "        list_text.append(text[letter])\n",
    "    for letter in list_text:\n",
    "        list_text_index.append(alphabet.index(letter))\n",
    "    for i in list_text_index:\n",
    "        list_text_encoded_index.append(i+ shift)\n",
    "    for i in list_text_encoded_index:\n",
    "        if i > 25:\n",
    "            i = 26 - i\n",
    "        list_encoded.append(alphabet[i])\n",
    "    print(list_text)\n",
    "    print(list_text_index)\n",
    "    print(list_text_encoded_index)\n",
    "    print(list_encoded)\n",
    "\n",
    "    #TODO-2: Inside the 'encrypt' function, shift each letter of the 'text' forwards in the alphabet by the shift amount and print the encrypted text.  \n",
    "    #e.g. \n",
    "    #plain_text = \"hello\"\n",
    "    #shift = 5\n",
    "    #cipher_text = \"mjqqt\"\n",
    "    #print output: \"The encoded text is mjqqt\"\n",
    "\n",
    "    ##HINT: How do you get the index of an item in a list:\n",
    "    #https://stackoverflow.com/questions/176918/finding-the-index-of-an-item-in-a-list\n",
    "\n",
    "    ##🐛Bug alert: What happens if you try to encode the word 'civilization'?🐛\n",
    "encrypt(text,shift)\n",
    "#TODO-3: Call the encrypt function and pass in the user inputs. You should be able to test the code and encrypt a message. "
   ]
  },
  {
   "cell_type": "code",
   "execution_count": 13,
   "metadata": {},
   "outputs": [
    {
     "name": "stdout",
     "output_type": "stream",
     "text": [
      "Give correct inputs plz (str, str, int)\n"
     ]
    }
   ],
   "source": [
    "alphabet = ['a', 'b', 'c', 'd', 'e', 'f', 'g', 'h', 'i', 'j', 'k', 'l', 'm', 'n', 'o', 'p', 'q', 'r', 's', 't', 'u', 'v', 'w', 'x', 'y', 'z', 'a', 'b', 'c', 'd', 'e', 'f', 'g', 'h', 'i', 'j', 'k', 'l', 'm', 'n', 'o', 'p', 'q', 'r', 's', 't', 'u', 'v', 'w', 'x', 'y', 'z']\n",
    "\n",
    "direction = input(\"Type 'encode' to encrypt, type 'decode' to decrypt:\\n\")\n",
    "text = input(\"Type your message:\\n\").lower()\n",
    "shift = input(\"Type the shift number:\\n\")\n",
    "\n",
    "def caesar(encode_or_decode,text,shift_amount):\n",
    "   output_text = \"\"\n",
    "   if encode_or_decode == type(str) or text == type(str) or shift_amount == type(int):\n",
    "      for letter in text:\n",
    "         position = alphabet.index(letter)\n",
    "         if encode_or_decode.lower() == \"decode\":\n",
    "            new_position = position - shift_amount\n",
    "         if encode_or_decode.lower() == \"encode\":\n",
    "            new_position = position + shift_amount\n",
    "         output_text += alphabet[new_position]\n",
    "      print(f\"The text is: {output_text}\")\n",
    "   else:\n",
    "      print(\"Give correct inputs plz (str, str, int)\")        \n",
    "   \n",
    "\n",
    "caesar(text=text, shift_amount=shift, encode_or_decode = direction)"
   ]
  }
 ],
 "metadata": {
  "kernelspec": {
   "display_name": "Python 3",
   "language": "python",
   "name": "python3"
  },
  "language_info": {
   "codemirror_mode": {
    "name": "ipython",
    "version": 3
   },
   "file_extension": ".py",
   "mimetype": "text/x-python",
   "name": "python",
   "nbconvert_exporter": "python",
   "pygments_lexer": "ipython3",
   "version": "3.10.2"
  }
 },
 "nbformat": 4,
 "nbformat_minor": 2
}
