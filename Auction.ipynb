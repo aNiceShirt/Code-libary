{
 "cells": [
  {
   "cell_type": "code",
   "execution_count": 1,
   "metadata": {},
   "outputs": [
    {
     "name": "stdout",
     "output_type": "stream",
     "text": [
      "\n",
      "                         ___________\n",
      "                         \\         /\n",
      "                          )_______(\n",
      "                          |\"\"\"\"\"\"\"|_.-._,.---------.,_.-._\n",
      "                          |       | | |               | | ''-.\n",
      "                          |       |_| |_             _| |_..-'\n",
      "                          |_______| '-' `'---------'` '-'\n",
      "                          )\"\"\"\"\"\"\"(\n",
      "                         /_________\\\n",
      "                       .-------------.\n",
      "                      /_______________\\\n",
      "\n",
      "{'mathias': '1000', 'lars': '20000'}\n",
      "20000\n"
     ]
    }
   ],
   "source": [
    "import os\n",
    "import artt\n",
    "#HINT: You can call clear() to clear the output in the console.\n",
    "bidding = True\n",
    "print(artt.logo)\n",
    "bids = {}\n",
    "cont = \"yes\"\n",
    "\n",
    "while bidding == True:\n",
    "    name = input(\"What is your name?\")\n",
    "    bid = input(\"What is your bid?\")\n",
    "    bids[str(name)] = bid\n",
    "    cont = input(\"Any more bids?\")\n",
    "    os.system('clear')\n",
    "    if cont != \"yes\":\n",
    "        bidding = False\n",
    "\n",
    "print(bids)\n",
    "highest = 0\n",
    "for bid in bids:\n",
    "    bid_int = int(bids[name])\n",
    "    if bid_int > highest:\n",
    "        highest = bid_int\n",
    "    bids[name]\n",
    "\n",
    "print(highest)\n",
    "\n",
    "\n",
    "\n",
    "for key, value in bids.items():\n",
    "    if value == highest:\n",
    "        print(key)"
   ]
  }
 ],
 "metadata": {
  "kernelspec": {
   "display_name": "Python 3",
   "language": "python",
   "name": "python3"
  },
  "language_info": {
   "codemirror_mode": {
    "name": "ipython",
    "version": 3
   },
   "file_extension": ".py",
   "mimetype": "text/x-python",
   "name": "python",
   "nbconvert_exporter": "python",
   "pygments_lexer": "ipython3",
   "version": "3.10.2"
  }
 },
 "nbformat": 4,
 "nbformat_minor": 2
}
