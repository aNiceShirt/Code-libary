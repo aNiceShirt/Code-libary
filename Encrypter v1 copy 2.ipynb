{
 "cells": [
  {
   "cell_type": "code",
   "execution_count": 24,
   "metadata": {},
   "outputs": [
    {
     "name": "stdout",
     "output_type": "stream",
     "text": [
      "You entered a number larger than 25, your number is therefore: 45\n"
     ]
    },
    {
     "ename": "IndexError",
     "evalue": "list index out of range",
     "output_type": "error",
     "traceback": [
      "\u001b[1;31m---------------------------------------------------------------------------\u001b[0m",
      "\u001b[1;31mIndexError\u001b[0m                                Traceback (most recent call last)",
      "\u001b[1;32mc:\\Users\\mbh\\Downloads\\100Days of Code Python\\Code libary\\Encrypter v1 copy 2.ipynb Cell 1\u001b[0m line \u001b[0;36m2\n\u001b[0;32m     <a href='vscode-notebook-cell:/c%3A/Users/mbh/Downloads/100Days%20of%20Code%20Python/Code%20libary/Encrypter%20v1%20copy%202.ipynb#W1sZmlsZQ%3D%3D?line=21'>22</a>\u001b[0m       output_text \u001b[39m+\u001b[39m\u001b[39m=\u001b[39m alphabet[new_position]\n\u001b[0;32m     <a href='vscode-notebook-cell:/c%3A/Users/mbh/Downloads/100Days%20of%20Code%20Python/Code%20libary/Encrypter%20v1%20copy%202.ipynb#W1sZmlsZQ%3D%3D?line=22'>23</a>\u001b[0m    \u001b[39mprint\u001b[39m(\u001b[39mf\u001b[39m\u001b[39m\"\u001b[39m\u001b[39mThe text is: \u001b[39m\u001b[39m{\u001b[39;00moutput_text\u001b[39m}\u001b[39;00m\u001b[39m\"\u001b[39m)      \n\u001b[1;32m---> <a href='vscode-notebook-cell:/c%3A/Users/mbh/Downloads/100Days%20of%20Code%20Python/Code%20libary/Encrypter%20v1%20copy%202.ipynb#W1sZmlsZQ%3D%3D?line=25'>26</a>\u001b[0m caesar(text\u001b[39m=\u001b[39;49mtext, shift_amount\u001b[39m=\u001b[39;49mshift, encode_or_decode \u001b[39m=\u001b[39;49m direction)\n",
      "\u001b[1;32mc:\\Users\\mbh\\Downloads\\100Days of Code Python\\Code libary\\Encrypter v1 copy 2.ipynb Cell 1\u001b[0m line \u001b[0;36m2\n\u001b[0;32m     <a href='vscode-notebook-cell:/c%3A/Users/mbh/Downloads/100Days%20of%20Code%20Python/Code%20libary/Encrypter%20v1%20copy%202.ipynb#W1sZmlsZQ%3D%3D?line=19'>20</a>\u001b[0m    \u001b[39mif\u001b[39;00m encode_or_decode\u001b[39m.\u001b[39mlower() \u001b[39m==\u001b[39m \u001b[39m\"\u001b[39m\u001b[39mencode\u001b[39m\u001b[39m\"\u001b[39m:\n\u001b[0;32m     <a href='vscode-notebook-cell:/c%3A/Users/mbh/Downloads/100Days%20of%20Code%20Python/Code%20libary/Encrypter%20v1%20copy%202.ipynb#W1sZmlsZQ%3D%3D?line=20'>21</a>\u001b[0m       new_position \u001b[39m=\u001b[39m position \u001b[39m+\u001b[39m shift_amount\n\u001b[1;32m---> <a href='vscode-notebook-cell:/c%3A/Users/mbh/Downloads/100Days%20of%20Code%20Python/Code%20libary/Encrypter%20v1%20copy%202.ipynb#W1sZmlsZQ%3D%3D?line=21'>22</a>\u001b[0m    output_text \u001b[39m+\u001b[39m\u001b[39m=\u001b[39m alphabet[new_position]\n\u001b[0;32m     <a href='vscode-notebook-cell:/c%3A/Users/mbh/Downloads/100Days%20of%20Code%20Python/Code%20libary/Encrypter%20v1%20copy%202.ipynb#W1sZmlsZQ%3D%3D?line=22'>23</a>\u001b[0m \u001b[39mprint\u001b[39m(\u001b[39mf\u001b[39m\u001b[39m\"\u001b[39m\u001b[39mThe text is: \u001b[39m\u001b[39m{\u001b[39;00moutput_text\u001b[39m}\u001b[39;00m\u001b[39m\"\u001b[39m)\n",
      "\u001b[1;31mIndexError\u001b[0m: list index out of range"
     ]
    }
   ],
   "source": [
    "alphabet = ['a', 'b', 'c', 'd', 'e', 'f', 'g', 'h', 'i', 'j', 'k', 'l', 'm', 'n', 'o', 'p', 'q', 'r', 's', 't', 'u', 'v', 'w', 'x', 'y', 'z', 'a', 'b', 'c', 'd', 'e', 'f', 'g', 'h', 'i', 'j', 'k', 'l', 'm', 'n', 'o', 'p', 'q', 'r', 's', 't', 'u', 'v', 'w', 'x', 'y', 'z']\n",
    "import art\n",
    "#print(art.logo)\n",
    "direction = input(\"Type 'encode' to encrypt, type 'decode' to decrypt:\\n\")\n",
    "text = input(\"Type your message:\\n\").lower()\n",
    "shift = int(input(\"Type the shift number:\\n\"))\n",
    "\n",
    "if shift > 25:\n",
    "   for num in range(2,shift):\n",
    "      if num%shift == 0:\n",
    "         shift = num\n",
    "   print(f'You entered a number larger than 25, your number is therefore: {num}')\n",
    "         \n",
    "def caesar(encode_or_decode,text,shift_amount):\n",
    "   output_text = \"\"\n",
    "   for letter in text:\n",
    "      position = alphabet.index(letter)\n",
    "      if encode_or_decode.lower() == \"decode\":\n",
    "         new_position = position - shift_amount\n",
    "      if encode_or_decode.lower() == \"encode\":\n",
    "         new_position = position + shift_amount\n",
    "      output_text += alphabet[new_position]\n",
    "   print(f\"The text is: {output_text}\")      \n",
    "   \n",
    "\n",
    "caesar(text=text, shift_amount=shift, encode_or_decode = direction)"
   ]
  }
 ],
 "metadata": {
  "kernelspec": {
   "display_name": "Python 3",
   "language": "python",
   "name": "python3"
  },
  "language_info": {
   "codemirror_mode": {
    "name": "ipython",
    "version": 3
   },
   "file_extension": ".py",
   "mimetype": "text/x-python",
   "name": "python",
   "nbconvert_exporter": "python",
   "pygments_lexer": "ipython3",
   "version": "3.10.2"
  }
 },
 "nbformat": 4,
 "nbformat_minor": 2
}
