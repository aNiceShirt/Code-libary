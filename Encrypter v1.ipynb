{
 "cells": [
  {
   "cell_type": "code",
   "execution_count": 51,
   "metadata": {},
   "outputs": [
    {
     "name": "stdout",
     "output_type": "stream",
     "text": [
      "['x', 'y', 'z', 'a', 'b']\n",
      "[23, 24, 25, 0, 1]\n",
      "[24, 25, 26, 1, 2]\n",
      "['y', 'z', 'a', 'b', 'c']\n"
     ]
    }
   ],
   "source": [
    "alphabet = ['a', 'b', 'c', 'd', 'e', 'f', 'g', 'h', 'i', 'j', 'k', 'l', 'm', 'n', 'o', 'p', 'q', 'r', 's', 't', 'u', 'v', 'w', 'x', 'y', 'z']\n",
    "\n",
    "# direction = input(\"Type 'encode' to encrypt, type 'decode' to decrypt:\\n\")\n",
    "# text = input(\"Type your message:\\n\").lower()\n",
    "# shift = int(input(\"Type the shift number:\\n\"))\n",
    "\n",
    "direction = \"encode\"\n",
    "text = \"xyzab\"\n",
    "shift = 1\n",
    "\n",
    "#TODO-1: Create a function called 'encrypt' that takes the 'text' and 'shift' as inputs.\n",
    "def encrypt(text,shift):\n",
    "    list_text = []\n",
    "    list_text_index = []\n",
    "    list_text_encoded_index = []\n",
    "    list_encoded = []\n",
    "    for letter in range(0,len(text)):\n",
    "        list_text.append(text[letter])\n",
    "    for letter in list_text:\n",
    "        list_text_index.append(alphabet.index(letter))\n",
    "    for i in list_text_index:\n",
    "        list_text_encoded_index.append(i+ shift)\n",
    "    for i in list_text_encoded_index:\n",
    "        if i > 25:\n",
    "            i = 26 - i\n",
    "        list_encoded.append(alphabet[i])\n",
    "    print(list_text)\n",
    "    print(list_text_index)\n",
    "    print(list_text_encoded_index)\n",
    "    print(list_encoded)\n",
    "\n",
    "    #TODO-2: Inside the 'encrypt' function, shift each letter of the 'text' forwards in the alphabet by the shift amount and print the encrypted text.  \n",
    "    #e.g. \n",
    "    #plain_text = \"hello\"\n",
    "    #shift = 5\n",
    "    #cipher_text = \"mjqqt\"\n",
    "    #print output: \"The encoded text is mjqqt\"\n",
    "\n",
    "    ##HINT: How do you get the index of an item in a list:\n",
    "    #https://stackoverflow.com/questions/176918/finding-the-index-of-an-item-in-a-list\n",
    "\n",
    "    ##🐛Bug alert: What happens if you try to encode the word 'civilization'?🐛\n",
    "encrypt(text,shift)\n",
    "#TODO-3: Call the encrypt function and pass in the user inputs. You should be able to test the code and encrypt a message. "
   ]
  },
  {
   "cell_type": "code",
   "execution_count": 21,
   "metadata": {},
   "outputs": [
    {
     "name": "stdout",
     "output_type": "stream",
     "text": [
      "The decoded text is hello\n",
      "None\n"
     ]
    }
   ],
   "source": [
    "alphabet = ['a', 'b', 'c', 'd', 'e', 'f', 'g', 'h', 'i', 'j', 'k', 'l', 'm', 'n', 'o', 'p', 'q', 'r', 's', 't', 'u', 'v', 'w', 'x', 'y', 'z', 'a', 'b', 'c', 'd', 'e', 'f', 'g', 'h', 'i', 'j', 'k', 'l', 'm', 'n', 'o', 'p', 'q', 'r', 's', 't', 'u', 'v', 'w', 'x', 'y', 'z']\n",
    "\n",
    "direction = input(\"Type 'encode' to encrypt, type 'decode' to decrypt:\\n\")\n",
    "text = input(\"Type your message:\\n\").lower()\n",
    "shift = int(input(\"Type the shift number:\\n\"))\n",
    "\n",
    "def encrypt(plain_text, shift_amount):\n",
    "    cipher_text = \"\"\n",
    "    for letter in plain_text:\n",
    "        position = alphabet.index(letter)\n",
    "        new_position = position + shift_amount\n",
    "        cipher_text += alphabet[new_position]\n",
    "    print(f\"The encoded text is {cipher_text}\")\n",
    "\n",
    "\n",
    "\n",
    "#TODO-1: Create a different function called 'decrypt' that takes the 'text' and 'shift' as inputs.\n",
    "def decrypt(cipher_text, shift_amount):\n",
    "  decrypt_text = \"\"\n",
    "  for letter in cipher_text:\n",
    "    position = alphabet.index(letter)\n",
    "    new_position = position - shift_amount\n",
    "    decrypt_text += alphabet[new_position]\n",
    "  print(f\"The decoded text is {decrypt_text}\")\n",
    "\n",
    "  #TODO-2: Inside the 'decrypt' function, shift each letter of the 'text' *backwards* in the alphabet by the shift amount and print the decrypted text.  \n",
    "  #e.g. \n",
    "  #cipher_text = \"mjqqt\"\n",
    "  #shift = 5\n",
    "  #plain_text = \"hello\"\n",
    "  #print output: \"The decoded text is hello\"\n",
    "\n",
    "\n",
    "#TODO-3: Check if the user wanted to encrypt or decrypt the message by checking the 'direction' variable. Then call the correct function based on that 'drection' variable. You should be able to test the code to encrypt *AND* decrypt a message.\n",
    "if direction.lower() == \"encode\":\n",
    "   encrypt(plain_text=text, shift_amount=shift)\n",
    "if direction.lower() == \"decode\":\n",
    "   decrypt(cipher_text=text, shift_amount=shift)\n",
    "else:\n",
    "   print(\"Not valid option\")"
   ]
  }
 ],
 "metadata": {
  "kernelspec": {
   "display_name": "Python 3",
   "language": "python",
   "name": "python3"
  },
  "language_info": {
   "codemirror_mode": {
    "name": "ipython",
    "version": 3
   },
   "file_extension": ".py",
   "mimetype": "text/x-python",
   "name": "python",
   "nbconvert_exporter": "python",
   "pygments_lexer": "ipython3",
   "version": "3.10.2"
  }
 },
 "nbformat": 4,
 "nbformat_minor": 2
}
